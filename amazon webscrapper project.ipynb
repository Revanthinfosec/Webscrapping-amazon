{
 "cells": [
  {
   "cell_type": "code",
   "execution_count": 2,
   "id": "cc071c95",
   "metadata": {},
   "outputs": [],
   "source": [
    "# importing libraries\n",
    "from bs4 import BeautifulSoup\n",
    "import requests\n",
    "import smtplib\n",
    "import time\n",
    "import datetime\n"
   ]
  },
  {
   "cell_type": "code",
   "execution_count": 14,
   "id": "df9c636e",
   "metadata": {},
   "outputs": [
    {
     "name": "stdout",
     "output_type": "stream",
     "text": [
      "Russell Athletic Men's Dri-Power Short Sleeve Tees, Moisture Wicking, Odor Protection, UPF 30+\n",
      "$7.85$7.85\n",
      "$7.85$7.85\n",
      "7.85\n"
     ]
    }
   ],
   "source": [
    "#conecting to the website\n",
    "url = 'https://www.amazon.com/Russell-Athletic-Essential-Short-Sleeve/dp/B071DVQLT2/?_encoding=UTF8&pd_rd_w=Vv3Jh&content-id=amzn1.sym.64be5821-f651-4b0b-8dd3-4f9b884f10e5&pf_rd_p=64be5821-f651-4b0b-8dd3-4f9b884f10e5&pf_rd_r=MYWTN56GE4HGAFC3SQB2&pd_rd_wg=vRpvq&pd_rd_r=de621018-a1ae-4394-90ca-4d6d4369965e&ref_=pd_gw_crs_zg_bs_7141123011'\n",
    "\n",
    "headers = {\n",
    "    \"User-Agent\": \"Mozilla/5.0 (Macintosh; Intel Mac OS X 10_15_7) AppleWebKit/605.1.15 (KHTML, like Gecko) Version/17.3.1 Safari/605.1.15\",\n",
    "    \"Accept-Encoding\": \"gzip, deflate\",\n",
    "    \"Accept\": \"text/html,application/xhtml+xml,application/xml;q=0.9,*/*;q=0.8\",\n",
    "    \"DNT\": \"1\",\n",
    "    \"Connection\": \"close\",\n",
    "    \"Upgrade-Insecure-Requests\": \"1\"\n",
    "}\n",
    "\n",
    "page = requests.get(url, headers=headers)\n",
    "soup1 = BeautifulSoup(page.content, \"html.parser\")\n",
    "soup2 = BeautifulSoup(soup1.prettify(),\"html.parser\")\n",
    "\n",
    "# Extracting title\n",
    "title_element = soup2.find(id='productTitle')\n",
    "title = title_element.get_text().strip() if title_element else \"Title not found\"\n",
    "\n",
    "# Extracting price\n",
    "price_element = soup2.find('span', class_='a-price')\n",
    "price = price_element.get_text(strip=True)\n",
    "\n",
    "print(title)\n",
    "print(price)\n",
    "\n",
    "\n",
    "\n"
   ]
  },
  {
   "cell_type": "code",
   "execution_count": 19,
   "id": "9c219b70",
   "metadata": {},
   "outputs": [
    {
     "name": "stdout",
     "output_type": "stream",
     "text": [
      "Russell Athletic Men's Dri-Power Short Sleeve Tees, Moisture Wicking, Odor Protection, UPF 30+\n",
      "7.85\n"
     ]
    }
   ],
   "source": [
    "price_text = \"Russell Athletic Men's Dri-Power Short Sleeve Tees, Moisture Wicking, Odor Protection, UPF 30+\\n$7.85$7.85\"\n",
    "\n",
    "# Split the text by newline to separate the product description and price\n",
    "price_parts = price_text.split('\\n')\n",
    "\n",
    "# Extract the price from the second part (index 1)\n",
    "price_value = price_parts[1].strip()\n",
    "# extract just the first price from the price value\n",
    "first_price = price_value.split('$')[1]\n",
    "\n",
    "print(title)\n",
    "print(first_price)\n",
    "\n"
   ]
  },
  {
   "cell_type": "code",
   "execution_count": 40,
   "id": "aa867dcb",
   "metadata": {},
   "outputs": [],
   "source": [
    "# now we are pyshing the data into a csv file\n",
    "\n",
    "import csv\n",
    "header = ['title','first_price', 'Date']\n",
    "data = [title, first_price, today]\n",
    "\n",
    "with open('MY_AMAZON_SCRAPERData.csv','w', newline='', encoding='UTF8') as f:\n",
    "    writer = csv.writer(f)\n",
    "    writer.writerow(header)\n",
    "    writer.writerow(data)\n",
    "    \n",
    "\n"
   ]
  },
  {
   "cell_type": "code",
   "execution_count": 53,
   "id": "e6b241e6",
   "metadata": {},
   "outputs": [
    {
     "name": "stdout",
     "output_type": "stream",
     "text": [
      "                                               title  first_price        Date\n",
      "0  Russell Athletic Men's Dri-Power Short Sleeve ...         7.85  2024-04-24\n",
      "1  Russell Athletic Men's Dri-Power Short Sleeve ...         7.85  2024-04-24\n",
      "2  Russell Athletic Men's Dri-Power Short Sleeve ...         7.85  2024-04-24\n",
      "3  Russell Athletic Men's Dri-Power Short Sleeve ...         7.85  2024-04-24\n",
      "4  Russell Athletic Men's Dri-Power Short Sleeve ...         7.85  2024-04-24\n",
      "5  Russell Athletic Men's Dri-Power Short Sleeve ...         7.85  2024-04-24\n"
     ]
    }
   ],
   "source": [
    "import pandas as pd\n",
    "df = pd.read_csv('/Users/revanthchowdary/Desktop/Projects/Amazon webscrapping/MY_AMAZON_SCRAPERData.csv')\n",
    "print(df) \n"
   ]
  },
  {
   "cell_type": "code",
   "execution_count": 64,
   "id": "24486bd5",
   "metadata": {},
   "outputs": [],
   "source": [
    "import csv\n",
    "\n",
    "# Assuming 'data' contains the data you want to append to the CSV file\n",
    "\n",
    "with open('MY_AMAZON_SCRAPERData.csv', 'a+', newline='', encoding='UTF8') as f:\n",
    "    writer = csv.writer(f)\n",
    "    writer.writerow(data)\n"
   ]
  },
  {
   "cell_type": "code",
   "execution_count": 66,
   "id": "a538e93b",
   "metadata": {},
   "outputs": [],
   "source": [
    "#now lets automate it\n",
    "\n",
    "import requests\n",
    "from bs4 import BeautifulSoup\n",
    "import datetime\n",
    "import csv\n",
    "\n",
    "def check_price():\n",
    "    url = 'https://www.amazon.com/Russell-Athletic-Essential-Short-Sleeve/dp/B071DVQLT2/?_encoding=UTF8&pd_rd_w=Vv3Jh&content-id=amzn1.sym.64be5821-f651-4b0b-8dd3-4f9b884f10e5&pf_rd_p=64be5821-f651-4b0b-8dd3-4f9b884f10e5&pf_rd_r=MYWTN56GE4HGAFC3SQB2&pd_rd_wg=vRpvq&pd_rd_r=de621018-a1ae-4394-90ca-4d6d4369965e&ref_=pd_gw_crs_zg_bs_7141123011'\n",
    "    headers = {\n",
    "        \"User-Agent\": \"Mozilla/5.0 (Macintosh; Intel Mac OS X 10_15_7) AppleWebKit/605.1.15 (KHTML, like Gecko) Version/17.3.1 Safari/605.1.15\",\n",
    "        \"Accept-Encoding\": \"gzip, deflate\",\n",
    "        \"Accept\": \"text/html,application/xhtml+xml,application/xml;q=0.9,*/*;q=0.8\",\n",
    "        \"DNT\": \"1\",\n",
    "        \"Connection\": \"close\",\n",
    "        \"Upgrade-Insecure-Requests\": \"1\"\n",
    "    }\n",
    "\n",
    "    page = requests.get(url, headers=headers)\n",
    "    soup1 = BeautifulSoup(page.content, \"html.parser\")\n",
    "    soup2 = BeautifulSoup(soup1.prettify(),\"html.parser\")\n",
    "\n",
    "    # Extracting title\n",
    "    title_element = soup2.find(id='productTitle')\n",
    "    title = title_element.get_text().strip() if title_element else \"Title not found\"\n",
    "\n",
    "    # Extracting price\n",
    "    price_element = soup2.find('span', class_='a-price')\n",
    "    price = price_element.get_text(strip=True)\n",
    "    first_price = price.split('$')[1]  # Corrected variable name\n",
    "\n",
    "    title = title.strip()\n",
    "    today = datetime.date.today()\n",
    "\n",
    "    header = ['title', 'first_price', 'Date']\n",
    "    data = [title, first_price, today]\n",
    "\n",
    "    with open('MY_AMAZON_SCRAPERData.csv', 'a+', newline='', encoding='UTF8') as f:\n",
    "        writer = csv.writer(f)\n",
    "        writer.writerow(data)\n"
   ]
  },
  {
   "cell_type": "code",
   "execution_count": 69,
   "id": "69347082",
   "metadata": {},
   "outputs": [
    {
     "ename": "KeyboardInterrupt",
     "evalue": "",
     "output_type": "error",
     "traceback": [
      "\u001b[0;31m---------------------------------------------------------------------------\u001b[0m",
      "\u001b[0;31mKeyboardInterrupt\u001b[0m                         Traceback (most recent call last)",
      "Cell \u001b[0;32mIn[69], line 3\u001b[0m\n\u001b[1;32m      1\u001b[0m \u001b[38;5;28;01mwhile\u001b[39;00m(\u001b[38;5;28;01mTrue\u001b[39;00m):\n\u001b[1;32m      2\u001b[0m     check_price()\n\u001b[0;32m----> 3\u001b[0m     time\u001b[38;5;241m.\u001b[39msleep(\u001b[38;5;241m86400\u001b[39m)\n",
      "\u001b[0;31mKeyboardInterrupt\u001b[0m: "
     ]
    }
   ],
   "source": [
    "while(True):\n",
    "    check_price()\n",
    "    time.sleep(86400)"
   ]
  },
  {
   "cell_type": "code",
   "execution_count": 70,
   "id": "5ad8991a",
   "metadata": {},
   "outputs": [
    {
     "name": "stdout",
     "output_type": "stream",
     "text": [
      "                                                title  first_price        Date\n",
      "0   Russell Athletic Men's Dri-Power Short Sleeve ...         7.85  2024-04-24\n",
      "1   Russell Athletic Men's Dri-Power Short Sleeve ...         7.85  2024-04-24\n",
      "2   Russell Athletic Men's Dri-Power Short Sleeve ...         7.85  2024-04-24\n",
      "3   Russell Athletic Men's Dri-Power Short Sleeve ...         7.85  2024-04-24\n",
      "4   Russell Athletic Men's Dri-Power Short Sleeve ...         7.85  2024-04-24\n",
      "5   Russell Athletic Men's Dri-Power Short Sleeve ...         7.85  2024-04-24\n",
      "6   Russell Athletic Men's Dri-Power Short Sleeve ...         7.85  2024-04-24\n",
      "7   Russell Athletic Men's Dri-Power Short Sleeve ...         7.85  2024-04-24\n",
      "8   Russell Athletic Men's Dri-Power Short Sleeve ...         7.85  2024-04-24\n",
      "9   Russell Athletic Men's Dri-Power Short Sleeve ...         7.85  2024-04-24\n",
      "10  Russell Athletic Men's Dri-Power Short Sleeve ...         7.85  2024-04-24\n",
      "11  Russell Athletic Men's Dri-Power Short Sleeve ...         7.85  2024-04-24\n"
     ]
    }
   ],
   "source": [
    "import pandas as pd\n",
    "df = pd.read_csv('/Users/revanthchowdary/Desktop/Projects/Amazon webscrapping/MY_AMAZON_SCRAPERData.csv')\n",
    "print(df) \n"
   ]
  },
  {
   "cell_type": "code",
   "execution_count": null,
   "id": "008524c0",
   "metadata": {},
   "outputs": [],
   "source": []
  },
  {
   "cell_type": "code",
   "execution_count": null,
   "id": "40f0c15b",
   "metadata": {},
   "outputs": [],
   "source": []
  },
  {
   "cell_type": "code",
   "execution_count": null,
   "id": "9f53d033",
   "metadata": {},
   "outputs": [],
   "source": []
  }
 ],
 "metadata": {
  "kernelspec": {
   "display_name": "Python 3 (ipykernel)",
   "language": "python",
   "name": "python3"
  },
  "language_info": {
   "codemirror_mode": {
    "name": "ipython",
    "version": 3
   },
   "file_extension": ".py",
   "mimetype": "text/x-python",
   "name": "python",
   "nbconvert_exporter": "python",
   "pygments_lexer": "ipython3",
   "version": "3.11.5"
  }
 },
 "nbformat": 4,
 "nbformat_minor": 5
}
